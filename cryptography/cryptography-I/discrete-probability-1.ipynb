{
 "cells": [
  {
   "cell_type": "markdown",
   "metadata": {},
   "source": [
    "U: finite set\n",
    "$$\n",
    "U = \\{0, 1\\}^n\n",
    "$$\n",
    "for n = 2\n",
    "$$\n",
    "U = [(0, 1), (1, 0),(1, 1), (0, 0)]\n",
    "$$\n",
    "$$\n",
    "\\sum_(x+ 1)\n",
    "$$"
   ]
  },
  {
   "cell_type": "code",
   "execution_count": null,
   "metadata": {},
   "outputs": [],
   "source": []
  }
 ],
 "metadata": {
  "kernelspec": {
   "display_name": "Python 3",
   "language": "python",
   "name": "python3"
  },
  "language_info": {
   "codemirror_mode": {
    "name": "ipython",
    "version": 3
   },
   "file_extension": ".py",
   "mimetype": "text/x-python",
   "name": "python",
   "nbconvert_exporter": "python",
   "pygments_lexer": "ipython3",
   "version": "3.4.2"
  }
 },
 "nbformat": 4,
 "nbformat_minor": 2
}
