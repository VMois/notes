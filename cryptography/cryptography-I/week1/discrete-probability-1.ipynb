{
 "cells": [
  {
   "cell_type": "markdown",
   "metadata": {},
   "source": [
    "U: finite set \n",
    "$$U = \\{0, 1\\}^n$$\n",
    "\n",
    "for n = 2\n",
    "$$U = [(0, 1), (1, 0),(1, 1), (0, 0)]$$\n",
    "\n",
    "Def: **Probability distribution** P over U is a function P:U -> [0, 1]\n",
    "$$\\sum_{x \\in U}P(x) = 1 \\text{(sum of all weights to 1)}$$"
   ]
  },
  {
   "cell_type": "markdown",
   "metadata": {},
   "source": [
    "Examples:\n",
    "1. Uniform distribution: $$\\text{for all } x \\in U: P(x) = 1 /|U|$$\n",
    "2. Point distribution: $$\\text{ at } x_0: P(x_0) = 1, \\forall x \\ne x_0: P(x) = 0$$"
   ]
  },
  {
   "cell_type": "markdown",
   "metadata": {},
   "source": [
    "## Events\n",
    "\n",
    "$$ \\text{For a set } A \\subseteq U: Pr[A] = \\sum_{x \\in A} P(x) \\in [0, 1]$$\n",
    "- The set A is called an **event**\n",
    "- Note: Pr[U] = 1"
   ]
  },
  {
   "cell_type": "markdown",
   "metadata": {},
   "source": [
    "## The union bound\n",
    "- For events A1 and A2 in universe U\n",
    "$$Pr[A_1 \\cup A_2] \\leq Pr[A_1] + Pr[A_2]$$\n",
    "- Note, if:\n",
    "$$A_1 \\cap A_2 = \\emptyset \\Rightarrow Pr[A_1 \\cup A_2] = Pr[A_1] + Pr[A_2]$$"
   ]
  },
  {
   "cell_type": "markdown",
   "metadata": {},
   "source": [
    "## Random variable\n",
    "Def: a random variable X is a function\n",
    "$$X:U \\to V$$\n",
    "Example:\n",
    "$$X:\\{0,1\\}^n \\to \\{0, 1\\} \\text{ ; }  X(y) = lsb(y) \\in \\{0, 1\\}$$\n",
    "More generally:\n",
    "- rand. var. X induces a distribution on V: \n",
    "$$Pr[X = v] := Pr[X^{-1}(v)]$$"
   ]
  },
  {
   "cell_type": "markdown",
   "metadata": {},
   "source": [
    "## The uniform random variable\n",
    "Let U be some set, e.g.\n",
    "$$U = \\{0, 1\\}^n$$\n",
    "We write:\n",
    "$$r \\xleftarrow[]{\\text{R}} U$$\n",
    "to denote a **uniform random variale** over U, and it means:\n",
    "$$\\text{for all } a \\in U: Pr[r = a] = 1/|U|$$"
   ]
  },
  {
   "cell_type": "markdown",
   "metadata": {},
   "source": [
    "## Randomized algorithms\n",
    "- Deterministic algorithm, always produce the same output, for same input:\n",
    "$$y \\leftarrow A(m)$$\n",
    "- Randomized algorithm:\n",
    "$$y \\leftarrow A(m ; r) \\text{ where } r \\xleftarrow[]{R} \\{0, 1\\}^n$$\n",
    "every time we run rand. algorithm, we will get different output, because new **r** is generated every time.\n",
    "output is a random variable:\n",
    "$$y \\xleftarrow[]{R} A(m)$$"
   ]
  },
  {
   "cell_type": "markdown",
   "metadata": {},
   "source": [
    "## Independence\n",
    "Def: events A and B are **independent** if Pr[A and B] = Pr[A] * Pr[B]"
   ]
  },
  {
   "cell_type": "markdown",
   "metadata": {},
   "source": [
    "## Review: XOR\n",
    "$$\\text{Formal: } x \\oplus y$$\n",
    "\n",
    "### An important property of XOR\n",
    "**Thm:** \n",
    "$$\\text{Y a rand. var. over } \\{0, 1\\}^n$$\n",
    "$$\\text{X an indep. uniform var. on } \\{0, 1\\}^n$$\n",
    "$$Pr[Y \\cap X] = Pr[Y] * Pr[X]$$\n",
    "$$\\text{Then } Z:= Y \\oplus X \\text{ is uniform var. on } \\{0, 1\\}^n$$"
   ]
  },
  {
   "cell_type": "markdown",
   "metadata": {},
   "source": [
    "## The birthday paradox\n",
    "$$\\text{Let } r_1,...,r_n \\in U \\text{ be indep. identically distributed random vars.}$$\n",
    "**Thm:**\n",
    "$$\\text{when } n = 1.2 * |U|^{1/2} \\text{ then } Pr[\\exists i \\neq j: r_i = r_j] \\geq 1/2$$\n",
    "**Example:**\n",
    "$$\\text{Let } U = \\{0, 1\\}^{128}$$\n",
    "$$\\text{After sampling about } 2^{64} \\text{ random messages from U,}$$\n",
    "$$\\text{some two sampled messages will likely be the same}$$"
   ]
  },
  {
   "cell_type": "code",
   "execution_count": null,
   "metadata": {},
   "outputs": [],
   "source": []
  }
 ],
 "metadata": {
  "kernelspec": {
   "display_name": "Python 3",
   "language": "python",
   "name": "python3"
  },
  "language_info": {
   "codemirror_mode": {
    "name": "ipython",
    "version": 3
   },
   "file_extension": ".py",
   "mimetype": "text/x-python",
   "name": "python",
   "nbconvert_exporter": "python",
   "pygments_lexer": "ipython3",
   "version": "3.4.2"
  }
 },
 "nbformat": 4,
 "nbformat_minor": 2
}
