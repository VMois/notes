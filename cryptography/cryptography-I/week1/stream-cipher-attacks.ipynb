{
 "cells": [
  {
   "cell_type": "markdown",
   "metadata": {},
   "source": [
    "## Attack 1: two time pad is insecure\n",
    "**Never use stream cipher key more then once!**\n",
    "$$C_1 \\leftarrow m_1 \\oplus PRG(k)$$\n",
    "$$C_2 \\leftarrow m_2 \\oplus PRG(k)$$\n",
    "Then\n",
    "$$C_1 \\oplus C_2 = m_1 \\oplus m_2$$\n",
    "\n",
    "Bad examples\n",
    "- MS-PPTP\n",
    "- WEP\n"
   ]
  },
  {
   "cell_type": "markdown",
   "metadata": {},
   "source": [
    "## Attack 2: No integrity (OTP is malleable)\n",
    "$$m \\to  m \\oplus k$$\n",
    "$$m \\oplus p \\xleftarrow[]{dec(\\oplus k)} (m \\oplus k) \\oplus p$$\n",
    "\n",
    "Modifications to ciphertext are undetected and have predictable impact on plaintext"
   ]
  },
  {
   "cell_type": "markdown",
   "metadata": {},
   "source": [
    "## Tips\n",
    "\n",
    "Network traffic:\n",
    "- negotiate key for every session (TLS)\n",
    "\n",
    "Disk encryption:\n",
    "- do not use a stream cipher"
   ]
  },
  {
   "cell_type": "code",
   "execution_count": null,
   "metadata": {},
   "outputs": [],
   "source": []
  }
 ],
 "metadata": {
  "kernelspec": {
   "display_name": "Python 3",
   "language": "python",
   "name": "python3"
  },
  "language_info": {
   "codemirror_mode": {
    "name": "ipython",
    "version": 3
   },
   "file_extension": ".py",
   "mimetype": "text/x-python",
   "name": "python",
   "nbconvert_exporter": "python",
   "pygments_lexer": "ipython3",
   "version": "3.4.2"
  }
 },
 "nbformat": 4,
 "nbformat_minor": 2
}
