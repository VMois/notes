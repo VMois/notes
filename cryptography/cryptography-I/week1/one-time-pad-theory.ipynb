{
 "cells": [
  {
   "cell_type": "markdown",
   "metadata": {},
   "source": [
    "## Def. cipher:\n",
    "**K** - keys\n",
    "**M** - messages\n",
    "**C** - ciphertext\n",
    "\n",
    "{K, M, C} = all posible\n",
    "\n",
    "E (encrpytion alg): K x M -> C\n",
    "D (decryption alg): K x C -> M\n",
    "\n",
    "### Consistency equetion\n",
    "D(K, E(K, m)) = m\n",
    "\n",
    "**E** is often randomized\n",
    "**D** is always deterministic"
   ]
  },
  {
   "cell_type": "markdown",
   "metadata": {},
   "source": [
    "## One time pad cipher (1917)\n",
    "\n",
    "Space of cipher\n",
    "$$M = C = \\{0, 1\\}^n$$\n",
    "$$K = \\{0, 1\\}^n$$\n",
    "\n",
    "### Cipher algorithm\n",
    "To encrypt message One time pad simply perform XOR:\n",
    "$$C := E(K, M) = K \\oplus M$$\n",
    "To decrypt message:\n",
    "$$M := D(K, C) = K \\oplus C$$\n",
    "$$K = m \\oplus C$$"
   ]
  },
  {
   "cell_type": "markdown",
   "metadata": {},
   "source": [
    "## Information Theoretic Security\n",
    "\n",
    "Basic idea: Cipthertext should reveal no \"info\" about Plaintext\n",
    "\n",
    "### Perfect secrecy\n",
    "$$\\forall m_0, m_1 \\in M$$\n",
    "$$|m_0| = |m_1| \\text{ length of messages is equal}$$\n",
    "$$\\forall c \\in C$$\n",
    "$$Pr[E(k, m_0) = c] = Pr[E(k, m_1) = c] \\text{ where } k \\xleftarrow[]{\\text{R}} K$$\n",
    "\n",
    "For One time pad perfect secrecy is accomplished when\n",
    "|K| > |M|"
   ]
  },
  {
   "cell_type": "code",
   "execution_count": null,
   "metadata": {},
   "outputs": [],
   "source": []
  }
 ],
 "metadata": {
  "kernelspec": {
   "display_name": "Python 3",
   "language": "python",
   "name": "python3"
  },
  "language_info": {
   "codemirror_mode": {
    "name": "ipython",
    "version": 3
   },
   "file_extension": ".py",
   "mimetype": "text/x-python",
   "name": "python",
   "nbconvert_exporter": "python",
   "pygments_lexer": "ipython3",
   "version": "3.4.2"
  }
 },
 "nbformat": 4,
 "nbformat_minor": 2
}
