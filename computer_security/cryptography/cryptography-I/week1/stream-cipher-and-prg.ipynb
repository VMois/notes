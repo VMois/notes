{
 "cells": [
  {
   "cell_type": "markdown",
   "metadata": {},
   "source": [
    "## Stream cipher\n",
    "idea: replace \"random\" key with \"pseudorandom\" key"
   ]
  },
  {
   "cell_type": "markdown",
   "metadata": {},
   "source": [
    "## Pseudo Random Generators\n",
    "Pseudo Random Generator (PRG)\n",
    "\n",
    "$$\\text{PRG: is a func. } G:\\{0, 1\\}^s \\rightarrow \\{0, 1\\}^n, n>>s \\text{ n larger than s }$$\n",
    "\n",
    "Stream cipher:\n",
    "$$C = E(k, m) := m \\oplus G(k)$$\n",
    "$$D(k, c) := c \\oplus G(k)$$\n",
    "\n",
    "**Stream cipher cannot have Perfect secrecy**\n",
    "\n",
    "**PRG must be unpredictable!**\n",
    "\n",
    "### Weak PRGs\n",
    "- glibc random() function\n",
    "- Linear congruential generator\n",
    "\n",
    "Good links:\n",
    "- https://crypto.stackexchange.com/questions/5832/what-exactly-is-a-negligible-and-non-negligible-function/5833#5833\n",
    "- https://people.eecs.berkeley.edu/~sanjamg/classes/cs276-fall14/scribe/lec02.pdf"
   ]
  },
  {
   "cell_type": "code",
   "execution_count": null,
   "metadata": {},
   "outputs": [],
   "source": []
  }
 ],
 "metadata": {
  "kernelspec": {
   "display_name": "Python 3",
   "language": "python",
   "name": "python3"
  },
  "language_info": {
   "codemirror_mode": {
    "name": "ipython",
    "version": 3
   },
   "file_extension": ".py",
   "mimetype": "text/x-python",
   "name": "python",
   "nbconvert_exporter": "python",
   "pygments_lexer": "ipython3",
   "version": "3.4.2"
  }
 },
 "nbformat": 4,
 "nbformat_minor": 2
}
